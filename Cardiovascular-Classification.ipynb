{
 "cells": [
  {
   "attachments": {},
   "cell_type": "markdown",
   "metadata": {},
   "source": [
    "# **Project Name**    -  **Cardiovascular Risk Prediction**\n",
    "\n"
   ]
  },
  {
   "attachments": {},
   "cell_type": "markdown",
   "metadata": {},
   "source": [
    "##### **Project Type**    - Classification\n",
    "##### **Contribution**    - Team\n",
    "##### **Team Member 1** - Nitin Pal\n",
    "##### **Team Member 2** - Shristhi Patel\n"
   ]
  },
  {
   "attachments": {},
   "cell_type": "markdown",
   "metadata": {},
   "source": [
    "# **Problem Statement**\n"
   ]
  },
  {
   "attachments": {},
   "cell_type": "markdown",
   "metadata": {},
   "source": [
    "**BUSINESS PROBLEM OVERVIEW**\n",
    "\n",
    "\n",
    "Cardiovascular disease is one of the most prevalent chronic diseases and the leading cause of death in the United States. Every year about 1 million Americans die due to cardiovascular related problems, which is about 42% of total death per year. Cardiovascular disease is the disease of heart and vascular system of the human body that includes narrowing down or blocking of blood vessels (arteries, veins and capillaries) that can lead to range of diseases such as coronary artery disease, arrhythmia, congenital heart defects, angina (chest pain) and stroke.\n",
    "\n",
    "> \n",
    "\n",
    "\n",
    "So if the cardiovascular diseases can be predicted then we'd be able to save a million of people around the world.  "
   ]
  },
  {
   "attachments": {},
   "cell_type": "markdown",
   "metadata": {},
   "source": [
    "#### **Define Your Business Objective?** "
   ]
  },
  {
   "attachments": {},
   "cell_type": "markdown",
   "metadata": {},
   "source": [
    "***Reducing risk of cardiovascular diseases***"
   ]
  },
  {
   "attachments": {},
   "cell_type": "markdown",
   "metadata": {},
   "source": [
    "# GitHub Link"
   ]
  },
  {
   "attachments": {},
   "cell_type": "markdown",
   "metadata": {},
   "source": [
    "https://github.com/palnitin12345/Cardio-Vascular-Disease-Prediction.git"
   ]
  },
  {
   "attachments": {},
   "cell_type": "markdown",
   "metadata": {},
   "source": [
    "# Let's begin"
   ]
  },
  {
   "attachments": {},
   "cell_type": "markdown",
   "metadata": {},
   "source": [
    "## ***1. Know Your Data***"
   ]
  },
  {
   "cell_type": "code",
   "execution_count": 1,
   "metadata": {},
   "outputs": [
    {
     "name": "stdout",
     "output_type": "stream",
     "text": [
      "Requirement already satisfied: squarify in c:\\users\\nitin\\appdata\\local\\packages\\pythonsoftwarefoundation.python.3.11_qbz5n2kfra8p0\\localcache\\local-packages\\python311\\site-packages (0.4.3)Note: you may need to restart the kernel to use updated packages.\n",
      "\n"
     ]
    }
   ],
   "source": [
    "#Importing required libraries\n",
    "\n",
    "import numpy as np\n",
    "import pandas as pd\n",
    "\n",
    "import matplotlib.pyplot as plt\n",
    "import seaborn as sns\n",
    "\n",
    "from numpy import math\n",
    "from scipy import stats\n",
    "\n",
    "%pip install squarify\n",
    "import squarify\n",
    "\n",
    "import datetime\n",
    "from datetime import datetime, timedelta\n",
    "\n",
    "import warnings\n",
    "warnings.filterwarnings(\"ignore\")\n",
    "from sklearn import preprocessing\n",
    "\n",
    "\n",
    "from sklearn.preprocessing import MinMaxScaler\n",
    "from sklearn.model_selection import train_test_split\n",
    "from sklearn.linear_model import LinearRegression\n",
    "from sklearn.metrics import r2_score\n",
    "from sklearn.metrics import mean_squared_error\n",
    "from sklearn.metrics import accuracy_score\n",
    "from sklearn.linear_model import LogisticRegression\n",
    "\n",
    "# Importing packages to split data into train and test\n",
    "from sklearn.model_selection import train_test_split\n",
    "     \n",
    "\n",
    "# Libraries for modelling and evaluation\n",
    "from sklearn.linear_model import LogisticRegression\n",
    "from sklearn.ensemble import RandomForestClassifier\n",
    "from xgboost import XGBClassifier\n",
    "from sklearn.neighbors import KNeighborsClassifier\n",
    "from sklearn.svm import SVC\n",
    "from sklearn.metrics import accuracy_score, precision_score, recall_score, f1_score, classification_report, confusion_matrix, roc_auc_score, roc_curve\n",
    "\n",
    "from sklearn.neighbors import KNeighborsClassifier\n",
    "from sklearn.metrics import classification_report\n",
    "\n",
    "# Importing libraries for hyperparameter tuning\n",
    "from sklearn.model_selection import GridSearchCV\n",
    "     \n",
    "\n",
    "import requests\n",
    "import io\n",
    " "
   ]
  },
  {
   "cell_type": "code",
   "execution_count": 2,
   "metadata": {},
   "outputs": [],
   "source": [
    "# Downloading the csv file from your GitHub account\n",
    "\n",
    "url = \"https://raw.githubusercontent.com/palnitin12345/Cardio-Vascular-Disease-Prediction/main/data_cardiovascular_risk.csv\"\n",
    " # Make sure the url is the raw version of the file on GitHub\n",
    "download = requests.get(url).content\n",
    "\n",
    "# Reading the downloaded content and turning it into a pandas dataframe\n",
    "\n",
    "dataset = pd.read_csv(io.StringIO(download.decode('utf-8')))\n"
   ]
  },
  {
   "cell_type": "code",
   "execution_count": null,
   "metadata": {},
   "outputs": [
    {
     "data": {
      "text/html": [
       "<div>\n",
       "<style scoped>\n",
       "    .dataframe tbody tr th:only-of-type {\n",
       "        vertical-align: middle;\n",
       "    }\n",
       "\n",
       "    .dataframe tbody tr th {\n",
       "        vertical-align: top;\n",
       "    }\n",
       "\n",
       "    .dataframe thead th {\n",
       "        text-align: right;\n",
       "    }\n",
       "</style>\n",
       "<table border=\"1\" class=\"dataframe\">\n",
       "  <thead>\n",
       "    <tr style=\"text-align: right;\">\n",
       "      <th></th>\n",
       "      <th>id</th>\n",
       "      <th>age</th>\n",
       "      <th>education</th>\n",
       "      <th>sex</th>\n",
       "      <th>is_smoking</th>\n",
       "      <th>cigsPerDay</th>\n",
       "      <th>BPMeds</th>\n",
       "      <th>prevalentStroke</th>\n",
       "      <th>prevalentHyp</th>\n",
       "      <th>diabetes</th>\n",
       "      <th>totChol</th>\n",
       "      <th>sysBP</th>\n",
       "      <th>diaBP</th>\n",
       "      <th>BMI</th>\n",
       "      <th>heartRate</th>\n",
       "      <th>glucose</th>\n",
       "      <th>TenYearCHD</th>\n",
       "    </tr>\n",
       "  </thead>\n",
       "  <tbody>\n",
       "    <tr>\n",
       "      <th>0</th>\n",
       "      <td>0</td>\n",
       "      <td>64</td>\n",
       "      <td>2.0</td>\n",
       "      <td>F</td>\n",
       "      <td>YES</td>\n",
       "      <td>3.0</td>\n",
       "      <td>0.0</td>\n",
       "      <td>0</td>\n",
       "      <td>0</td>\n",
       "      <td>0</td>\n",
       "      <td>221.0</td>\n",
       "      <td>148.0</td>\n",
       "      <td>85.0</td>\n",
       "      <td>NaN</td>\n",
       "      <td>90.0</td>\n",
       "      <td>80.0</td>\n",
       "      <td>1</td>\n",
       "    </tr>\n",
       "    <tr>\n",
       "      <th>1</th>\n",
       "      <td>1</td>\n",
       "      <td>36</td>\n",
       "      <td>4.0</td>\n",
       "      <td>M</td>\n",
       "      <td>NO</td>\n",
       "      <td>0.0</td>\n",
       "      <td>0.0</td>\n",
       "      <td>0</td>\n",
       "      <td>1</td>\n",
       "      <td>0</td>\n",
       "      <td>212.0</td>\n",
       "      <td>168.0</td>\n",
       "      <td>98.0</td>\n",
       "      <td>29.77</td>\n",
       "      <td>72.0</td>\n",
       "      <td>75.0</td>\n",
       "      <td>0</td>\n",
       "    </tr>\n",
       "    <tr>\n",
       "      <th>2</th>\n",
       "      <td>2</td>\n",
       "      <td>46</td>\n",
       "      <td>1.0</td>\n",
       "      <td>F</td>\n",
       "      <td>YES</td>\n",
       "      <td>10.0</td>\n",
       "      <td>0.0</td>\n",
       "      <td>0</td>\n",
       "      <td>0</td>\n",
       "      <td>0</td>\n",
       "      <td>250.0</td>\n",
       "      <td>116.0</td>\n",
       "      <td>71.0</td>\n",
       "      <td>20.35</td>\n",
       "      <td>88.0</td>\n",
       "      <td>94.0</td>\n",
       "      <td>0</td>\n",
       "    </tr>\n",
       "    <tr>\n",
       "      <th>3</th>\n",
       "      <td>3</td>\n",
       "      <td>50</td>\n",
       "      <td>1.0</td>\n",
       "      <td>M</td>\n",
       "      <td>YES</td>\n",
       "      <td>20.0</td>\n",
       "      <td>0.0</td>\n",
       "      <td>0</td>\n",
       "      <td>1</td>\n",
       "      <td>0</td>\n",
       "      <td>233.0</td>\n",
       "      <td>158.0</td>\n",
       "      <td>88.0</td>\n",
       "      <td>28.26</td>\n",
       "      <td>68.0</td>\n",
       "      <td>94.0</td>\n",
       "      <td>1</td>\n",
       "    </tr>\n",
       "    <tr>\n",
       "      <th>4</th>\n",
       "      <td>4</td>\n",
       "      <td>64</td>\n",
       "      <td>1.0</td>\n",
       "      <td>F</td>\n",
       "      <td>YES</td>\n",
       "      <td>30.0</td>\n",
       "      <td>0.0</td>\n",
       "      <td>0</td>\n",
       "      <td>0</td>\n",
       "      <td>0</td>\n",
       "      <td>241.0</td>\n",
       "      <td>136.5</td>\n",
       "      <td>85.0</td>\n",
       "      <td>26.42</td>\n",
       "      <td>70.0</td>\n",
       "      <td>77.0</td>\n",
       "      <td>0</td>\n",
       "    </tr>\n",
       "  </tbody>\n",
       "</table>\n",
       "</div>"
      ],
      "text/plain": [
       "   id  age  education sex is_smoking  cigsPerDay  BPMeds  prevalentStroke   \n",
       "0   0   64        2.0   F        YES         3.0     0.0                0  \\\n",
       "1   1   36        4.0   M         NO         0.0     0.0                0   \n",
       "2   2   46        1.0   F        YES        10.0     0.0                0   \n",
       "3   3   50        1.0   M        YES        20.0     0.0                0   \n",
       "4   4   64        1.0   F        YES        30.0     0.0                0   \n",
       "\n",
       "   prevalentHyp  diabetes  totChol  sysBP  diaBP    BMI  heartRate  glucose   \n",
       "0             0         0    221.0  148.0   85.0    NaN       90.0     80.0  \\\n",
       "1             1         0    212.0  168.0   98.0  29.77       72.0     75.0   \n",
       "2             0         0    250.0  116.0   71.0  20.35       88.0     94.0   \n",
       "3             1         0    233.0  158.0   88.0  28.26       68.0     94.0   \n",
       "4             0         0    241.0  136.5   85.0  26.42       70.0     77.0   \n",
       "\n",
       "   TenYearCHD  \n",
       "0           1  \n",
       "1           0  \n",
       "2           0  \n",
       "3           1  \n",
       "4           0  "
      ]
     },
     "metadata": {},
     "output_type": "display_data"
    }
   ],
   "source": [
    "#First look of the data.\n",
    "\n",
    "dataset.head()"
   ]
  },
  {
   "cell_type": "code",
   "execution_count": null,
   "metadata": {},
   "outputs": [
    {
     "name": "stdout",
     "output_type": "stream",
     "text": [
      "Shape of first dataset (3390, 17)\n"
     ]
    }
   ],
   "source": [
    "# Dataset Rows & Columns count\n",
    "\n",
    "print(f'Shape of first dataset {dataset.shape}')"
   ]
  },
  {
   "cell_type": "code",
   "execution_count": null,
   "metadata": {},
   "outputs": [
    {
     "name": "stdout",
     "output_type": "stream",
     "text": [
      "<class 'pandas.core.frame.DataFrame'>\n",
      "RangeIndex: 3390 entries, 0 to 3389\n",
      "Data columns (total 17 columns):\n",
      " #   Column           Non-Null Count  Dtype  \n",
      "---  ------           --------------  -----  \n",
      " 0   id               3390 non-null   int64  \n",
      " 1   age              3390 non-null   int64  \n",
      " 2   education        3303 non-null   float64\n",
      " 3   sex              3390 non-null   object \n",
      " 4   is_smoking       3390 non-null   object \n",
      " 5   cigsPerDay       3368 non-null   float64\n",
      " 6   BPMeds           3346 non-null   float64\n",
      " 7   prevalentStroke  3390 non-null   int64  \n",
      " 8   prevalentHyp     3390 non-null   int64  \n",
      " 9   diabetes         3390 non-null   int64  \n",
      " 10  totChol          3352 non-null   float64\n",
      " 11  sysBP            3390 non-null   float64\n",
      " 12  diaBP            3390 non-null   float64\n",
      " 13  BMI              3376 non-null   float64\n",
      " 14  heartRate        3389 non-null   float64\n",
      " 15  glucose          3086 non-null   float64\n",
      " 16  TenYearCHD       3390 non-null   int64  \n",
      "dtypes: float64(9), int64(6), object(2)\n",
      "memory usage: 450.4+ KB\n"
     ]
    }
   ],
   "source": [
    "#Dataset info\n",
    "#Looking the datatypes\n",
    "\n",
    "dataset.info()"
   ]
  },
  {
   "attachments": {},
   "cell_type": "markdown",
   "metadata": {},
   "source": [
    "Duplicate Values"
   ]
  },
  {
   "cell_type": "code",
   "execution_count": null,
   "metadata": {},
   "outputs": [
    {
     "data": {
      "text/plain": [
       "0"
      ]
     },
     "metadata": {},
     "output_type": "display_data"
    }
   ],
   "source": [
    "\n",
    "#Number of duplicated Rows\n",
    "\n",
    "len(dataset[dataset.duplicated()])"
   ]
  },
  {
   "attachments": {},
   "cell_type": "markdown",
   "metadata": {},
   "source": [
    "Missing/Null Values"
   ]
  },
  {
   "cell_type": "code",
   "execution_count": null,
   "metadata": {},
   "outputs": [
    {
     "name": "stdout",
     "output_type": "stream",
     "text": [
      "Col     Null values percent\n",
      "education  :- 2.57\n",
      "cigsPerDay  :- 0.65\n",
      "BPMeds  :- 1.3\n",
      "totChol  :- 1.12\n",
      "BMI  :- 0.41\n",
      "heartRate  :- 0.03\n",
      "glucose  :- 8.97\n"
     ]
    }
   ],
   "source": [
    "#Finding null columns in the dataset and percentage of null values.\n",
    "print(\"Col     Null values percent\")\n",
    "for col in dataset.columns:\n",
    "  if dataset[col].notnull().sum() != len(dataset):\n",
    "    print(f\"{col}  :- {round(dataset[col].isnull().sum()*100/len(dataset),2)}\")"
   ]
  },
  {
   "attachments": {},
   "cell_type": "markdown",
   "metadata": {},
   "source": [
    "### What did you know about your dataset?"
   ]
  },
  {
   "attachments": {},
   "cell_type": "markdown",
   "metadata": {},
   "source": [
    "We got to know that we have data 3390 patients whose heart rate, cholestrol level and other parameters are given. And we have to predict whether they possess a risk of Cardiovascular heart Diseases in the next ten years or not. \n",
    "There are no columns with more than 3% of null values, so they can be treated and no need to remove columns. There are no duplicated entries in the dataset."
   ]
  },
  {
   "attachments": {},
   "cell_type": "markdown",
   "metadata": {},
   "source": [
    "## ***2. Understanding Your Variables***"
   ]
  },
  {
   "cell_type": "code",
   "execution_count": null,
   "metadata": {},
   "outputs": [
    {
     "data": {
      "text/plain": [
       "Index(['id', 'age', 'education', 'sex', 'is_smoking', 'cigsPerDay', 'BPMeds',\n",
       "       'prevalentStroke', 'prevalentHyp', 'diabetes', 'totChol', 'sysBP',\n",
       "       'diaBP', 'BMI', 'heartRate', 'glucose', 'TenYearCHD'],\n",
       "      dtype='object')"
      ]
     },
     "metadata": {},
     "output_type": "display_data"
    }
   ],
   "source": [
    "# Dataset Columns\n",
    "\n",
    "dataset.columns"
   ]
  },
  {
   "cell_type": "code",
   "execution_count": null,
   "metadata": {},
   "outputs": [
    {
     "data": {
      "text/html": [
       "<div>\n",
       "<style scoped>\n",
       "    .dataframe tbody tr th:only-of-type {\n",
       "        vertical-align: middle;\n",
       "    }\n",
       "\n",
       "    .dataframe tbody tr th {\n",
       "        vertical-align: top;\n",
       "    }\n",
       "\n",
       "    .dataframe thead th {\n",
       "        text-align: right;\n",
       "    }\n",
       "</style>\n",
       "<table border=\"1\" class=\"dataframe\">\n",
       "  <thead>\n",
       "    <tr style=\"text-align: right;\">\n",
       "      <th></th>\n",
       "      <th>id</th>\n",
       "      <th>age</th>\n",
       "      <th>education</th>\n",
       "      <th>sex</th>\n",
       "      <th>is_smoking</th>\n",
       "      <th>cigsPerDay</th>\n",
       "      <th>BPMeds</th>\n",
       "      <th>prevalentStroke</th>\n",
       "      <th>prevalentHyp</th>\n",
       "      <th>diabetes</th>\n",
       "      <th>totChol</th>\n",
       "      <th>sysBP</th>\n",
       "      <th>diaBP</th>\n",
       "      <th>BMI</th>\n",
       "      <th>heartRate</th>\n",
       "      <th>glucose</th>\n",
       "      <th>TenYearCHD</th>\n",
       "    </tr>\n",
       "  </thead>\n",
       "  <tbody>\n",
       "    <tr>\n",
       "      <th>count</th>\n",
       "      <td>3390.000000</td>\n",
       "      <td>3390.000000</td>\n",
       "      <td>3303.000000</td>\n",
       "      <td>3390</td>\n",
       "      <td>3390</td>\n",
       "      <td>3368.000000</td>\n",
       "      <td>3346.000000</td>\n",
       "      <td>3390.000000</td>\n",
       "      <td>3390.000000</td>\n",
       "      <td>3390.000000</td>\n",
       "      <td>3352.000000</td>\n",
       "      <td>3390.00000</td>\n",
       "      <td>3390.000000</td>\n",
       "      <td>3376.000000</td>\n",
       "      <td>3389.000000</td>\n",
       "      <td>3086.000000</td>\n",
       "      <td>3390.000000</td>\n",
       "    </tr>\n",
       "    <tr>\n",
       "      <th>unique</th>\n",
       "      <td>NaN</td>\n",
       "      <td>NaN</td>\n",
       "      <td>NaN</td>\n",
       "      <td>2</td>\n",
       "      <td>2</td>\n",
       "      <td>NaN</td>\n",
       "      <td>NaN</td>\n",
       "      <td>NaN</td>\n",
       "      <td>NaN</td>\n",
       "      <td>NaN</td>\n",
       "      <td>NaN</td>\n",
       "      <td>NaN</td>\n",
       "      <td>NaN</td>\n",
       "      <td>NaN</td>\n",
       "      <td>NaN</td>\n",
       "      <td>NaN</td>\n",
       "      <td>NaN</td>\n",
       "    </tr>\n",
       "    <tr>\n",
       "      <th>top</th>\n",
       "      <td>NaN</td>\n",
       "      <td>NaN</td>\n",
       "      <td>NaN</td>\n",
       "      <td>F</td>\n",
       "      <td>NO</td>\n",
       "      <td>NaN</td>\n",
       "      <td>NaN</td>\n",
       "      <td>NaN</td>\n",
       "      <td>NaN</td>\n",
       "      <td>NaN</td>\n",
       "      <td>NaN</td>\n",
       "      <td>NaN</td>\n",
       "      <td>NaN</td>\n",
       "      <td>NaN</td>\n",
       "      <td>NaN</td>\n",
       "      <td>NaN</td>\n",
       "      <td>NaN</td>\n",
       "    </tr>\n",
       "    <tr>\n",
       "      <th>freq</th>\n",
       "      <td>NaN</td>\n",
       "      <td>NaN</td>\n",
       "      <td>NaN</td>\n",
       "      <td>1923</td>\n",
       "      <td>1703</td>\n",
       "      <td>NaN</td>\n",
       "      <td>NaN</td>\n",
       "      <td>NaN</td>\n",
       "      <td>NaN</td>\n",
       "      <td>NaN</td>\n",
       "      <td>NaN</td>\n",
       "      <td>NaN</td>\n",
       "      <td>NaN</td>\n",
       "      <td>NaN</td>\n",
       "      <td>NaN</td>\n",
       "      <td>NaN</td>\n",
       "      <td>NaN</td>\n",
       "    </tr>\n",
       "    <tr>\n",
       "      <th>mean</th>\n",
       "      <td>1694.500000</td>\n",
       "      <td>49.542183</td>\n",
       "      <td>1.970936</td>\n",
       "      <td>NaN</td>\n",
       "      <td>NaN</td>\n",
       "      <td>9.069477</td>\n",
       "      <td>0.029886</td>\n",
       "      <td>0.006490</td>\n",
       "      <td>0.315339</td>\n",
       "      <td>0.025664</td>\n",
       "      <td>237.074284</td>\n",
       "      <td>132.60118</td>\n",
       "      <td>82.883038</td>\n",
       "      <td>25.794964</td>\n",
       "      <td>75.977279</td>\n",
       "      <td>82.086520</td>\n",
       "      <td>0.150737</td>\n",
       "    </tr>\n",
       "    <tr>\n",
       "      <th>std</th>\n",
       "      <td>978.753033</td>\n",
       "      <td>8.592878</td>\n",
       "      <td>1.019081</td>\n",
       "      <td>NaN</td>\n",
       "      <td>NaN</td>\n",
       "      <td>11.879078</td>\n",
       "      <td>0.170299</td>\n",
       "      <td>0.080309</td>\n",
       "      <td>0.464719</td>\n",
       "      <td>0.158153</td>\n",
       "      <td>45.247430</td>\n",
       "      <td>22.29203</td>\n",
       "      <td>12.023581</td>\n",
       "      <td>4.115449</td>\n",
       "      <td>11.971868</td>\n",
       "      <td>24.244753</td>\n",
       "      <td>0.357846</td>\n",
       "    </tr>\n",
       "    <tr>\n",
       "      <th>min</th>\n",
       "      <td>0.000000</td>\n",
       "      <td>32.000000</td>\n",
       "      <td>1.000000</td>\n",
       "      <td>NaN</td>\n",
       "      <td>NaN</td>\n",
       "      <td>0.000000</td>\n",
       "      <td>0.000000</td>\n",
       "      <td>0.000000</td>\n",
       "      <td>0.000000</td>\n",
       "      <td>0.000000</td>\n",
       "      <td>107.000000</td>\n",
       "      <td>83.50000</td>\n",
       "      <td>48.000000</td>\n",
       "      <td>15.960000</td>\n",
       "      <td>45.000000</td>\n",
       "      <td>40.000000</td>\n",
       "      <td>0.000000</td>\n",
       "    </tr>\n",
       "    <tr>\n",
       "      <th>25%</th>\n",
       "      <td>847.250000</td>\n",
       "      <td>42.000000</td>\n",
       "      <td>1.000000</td>\n",
       "      <td>NaN</td>\n",
       "      <td>NaN</td>\n",
       "      <td>0.000000</td>\n",
       "      <td>0.000000</td>\n",
       "      <td>0.000000</td>\n",
       "      <td>0.000000</td>\n",
       "      <td>0.000000</td>\n",
       "      <td>206.000000</td>\n",
       "      <td>117.00000</td>\n",
       "      <td>74.500000</td>\n",
       "      <td>23.020000</td>\n",
       "      <td>68.000000</td>\n",
       "      <td>71.000000</td>\n",
       "      <td>0.000000</td>\n",
       "    </tr>\n",
       "    <tr>\n",
       "      <th>50%</th>\n",
       "      <td>1694.500000</td>\n",
       "      <td>49.000000</td>\n",
       "      <td>2.000000</td>\n",
       "      <td>NaN</td>\n",
       "      <td>NaN</td>\n",
       "      <td>0.000000</td>\n",
       "      <td>0.000000</td>\n",
       "      <td>0.000000</td>\n",
       "      <td>0.000000</td>\n",
       "      <td>0.000000</td>\n",
       "      <td>234.000000</td>\n",
       "      <td>128.50000</td>\n",
       "      <td>82.000000</td>\n",
       "      <td>25.380000</td>\n",
       "      <td>75.000000</td>\n",
       "      <td>78.000000</td>\n",
       "      <td>0.000000</td>\n",
       "    </tr>\n",
       "    <tr>\n",
       "      <th>75%</th>\n",
       "      <td>2541.750000</td>\n",
       "      <td>56.000000</td>\n",
       "      <td>3.000000</td>\n",
       "      <td>NaN</td>\n",
       "      <td>NaN</td>\n",
       "      <td>20.000000</td>\n",
       "      <td>0.000000</td>\n",
       "      <td>0.000000</td>\n",
       "      <td>1.000000</td>\n",
       "      <td>0.000000</td>\n",
       "      <td>264.000000</td>\n",
       "      <td>144.00000</td>\n",
       "      <td>90.000000</td>\n",
       "      <td>28.040000</td>\n",
       "      <td>83.000000</td>\n",
       "      <td>87.000000</td>\n",
       "      <td>0.000000</td>\n",
       "    </tr>\n",
       "    <tr>\n",
       "      <th>max</th>\n",
       "      <td>3389.000000</td>\n",
       "      <td>70.000000</td>\n",
       "      <td>4.000000</td>\n",
       "      <td>NaN</td>\n",
       "      <td>NaN</td>\n",
       "      <td>70.000000</td>\n",
       "      <td>1.000000</td>\n",
       "      <td>1.000000</td>\n",
       "      <td>1.000000</td>\n",
       "      <td>1.000000</td>\n",
       "      <td>696.000000</td>\n",
       "      <td>295.00000</td>\n",
       "      <td>142.500000</td>\n",
       "      <td>56.800000</td>\n",
       "      <td>143.000000</td>\n",
       "      <td>394.000000</td>\n",
       "      <td>1.000000</td>\n",
       "    </tr>\n",
       "  </tbody>\n",
       "</table>\n",
       "</div>"
      ],
      "text/plain": [
       "                 id          age    education   sex is_smoking   cigsPerDay   \n",
       "count   3390.000000  3390.000000  3303.000000  3390       3390  3368.000000  \\\n",
       "unique          NaN          NaN          NaN     2          2          NaN   \n",
       "top             NaN          NaN          NaN     F         NO          NaN   \n",
       "freq            NaN          NaN          NaN  1923       1703          NaN   \n",
       "mean    1694.500000    49.542183     1.970936   NaN        NaN     9.069477   \n",
       "std      978.753033     8.592878     1.019081   NaN        NaN    11.879078   \n",
       "min        0.000000    32.000000     1.000000   NaN        NaN     0.000000   \n",
       "25%      847.250000    42.000000     1.000000   NaN        NaN     0.000000   \n",
       "50%     1694.500000    49.000000     2.000000   NaN        NaN     0.000000   \n",
       "75%     2541.750000    56.000000     3.000000   NaN        NaN    20.000000   \n",
       "max     3389.000000    70.000000     4.000000   NaN        NaN    70.000000   \n",
       "\n",
       "             BPMeds  prevalentStroke  prevalentHyp     diabetes      totChol   \n",
       "count   3346.000000      3390.000000   3390.000000  3390.000000  3352.000000  \\\n",
       "unique          NaN              NaN           NaN          NaN          NaN   \n",
       "top             NaN              NaN           NaN          NaN          NaN   \n",
       "freq            NaN              NaN           NaN          NaN          NaN   \n",
       "mean       0.029886         0.006490      0.315339     0.025664   237.074284   \n",
       "std        0.170299         0.080309      0.464719     0.158153    45.247430   \n",
       "min        0.000000         0.000000      0.000000     0.000000   107.000000   \n",
       "25%        0.000000         0.000000      0.000000     0.000000   206.000000   \n",
       "50%        0.000000         0.000000      0.000000     0.000000   234.000000   \n",
       "75%        0.000000         0.000000      1.000000     0.000000   264.000000   \n",
       "max        1.000000         1.000000      1.000000     1.000000   696.000000   \n",
       "\n",
       "             sysBP        diaBP          BMI    heartRate      glucose   \n",
       "count   3390.00000  3390.000000  3376.000000  3389.000000  3086.000000  \\\n",
       "unique         NaN          NaN          NaN          NaN          NaN   \n",
       "top            NaN          NaN          NaN          NaN          NaN   \n",
       "freq           NaN          NaN          NaN          NaN          NaN   \n",
       "mean     132.60118    82.883038    25.794964    75.977279    82.086520   \n",
       "std       22.29203    12.023581     4.115449    11.971868    24.244753   \n",
       "min       83.50000    48.000000    15.960000    45.000000    40.000000   \n",
       "25%      117.00000    74.500000    23.020000    68.000000    71.000000   \n",
       "50%      128.50000    82.000000    25.380000    75.000000    78.000000   \n",
       "75%      144.00000    90.000000    28.040000    83.000000    87.000000   \n",
       "max      295.00000   142.500000    56.800000   143.000000   394.000000   \n",
       "\n",
       "         TenYearCHD  \n",
       "count   3390.000000  \n",
       "unique          NaN  \n",
       "top             NaN  \n",
       "freq            NaN  \n",
       "mean       0.150737  \n",
       "std        0.357846  \n",
       "min        0.000000  \n",
       "25%        0.000000  \n",
       "50%        0.000000  \n",
       "75%        0.000000  \n",
       "max        1.000000  "
      ]
     },
     "metadata": {},
     "output_type": "display_data"
    }
   ],
   "source": [
    "# Dataset Describe\n",
    "\n",
    "dataset.describe(include='all')"
   ]
  },
  {
   "attachments": {},
   "cell_type": "markdown",
   "metadata": {},
   "source": [
    "Variables Description "
   ]
  },
  {
   "attachments": {},
   "cell_type": "markdown",
   "metadata": {},
   "source": [
    "1.  **id** :-  Unique id referring to a patient case\n",
    "2.  **age** :- Age of the person\n",
    "3.  **education** :- Describes their education level.\n",
    "4.\t**sex**:- Gender of the patient\n",
    "5.\t**is_smoking**:- whether the person smokes or not\n",
    "6.\t**cigsPerDay**:- number of ciggerattes consumed in a day\n",
    "7.\t**BPMeds**:- whether taking blood pressure meds or not\n",
    "8.\t**prevalentStroke**:- Whether patient has a history of stroke\n",
    "9.\t**prevalentHyp**:-whether patient has a history of hypertension\n",
    "10.\t**diabetes**:- whether patient has diabetes or not\n",
    "11.\t**totChol**:-Cholestrol level of the pateint\n",
    "12.\t**sysBP**\t:-systolic blood pressure value\n",
    "13. **diaBP**:-diastolic blood pressure value\n",
    "14.\t**BMI**:- Body Mass Index. Refers to general physique of the person\n",
    "15.\t**heartRate**:- Heart rate \n",
    "16.\t**glucose**:-Glucose level in the person's body\n",
    "17.\t**TenYearCHD**:- Whether there are chances of cardiovascular Heart Disease or not"
   ]
  },
  {
   "attachments": {},
   "cell_type": "markdown",
   "metadata": {},
   "source": [
    "Unique Values"
   ]
  },
  {
   "cell_type": "code",
   "execution_count": null,
   "metadata": {},
   "outputs": [
    {
     "name": "stdout",
     "output_type": "stream",
     "text": [
      "No. of unique values in  id is 3390\n",
      "No. of unique values in  age is 39\n",
      "No. of unique values in  education is 4\n",
      "No. of unique values in  sex is 2\n",
      "No. of unique values in  is_smoking is 2\n",
      "No. of unique values in  cigsPerDay is 32\n",
      "No. of unique values in  BPMeds is 2\n",
      "No. of unique values in  prevalentStroke is 2\n",
      "No. of unique values in  prevalentHyp is 2\n",
      "No. of unique values in  diabetes is 2\n",
      "No. of unique values in  totChol is 240\n",
      "No. of unique values in  sysBP is 226\n",
      "No. of unique values in  diaBP is 142\n",
      "No. of unique values in  BMI is 1259\n",
      "No. of unique values in  heartRate is 68\n",
      "No. of unique values in  glucose is 132\n",
      "No. of unique values in  TenYearCHD is 2\n"
     ]
    }
   ],
   "source": [
    "# Check Unique Values for each variable.\n",
    "for i in dataset.columns.tolist():\n",
    "  print(\"No. of unique values in \",i,\"is\",dataset[i].nunique(),)"
   ]
  },
  {
   "cell_type": "code",
   "execution_count": null,
   "metadata": {},
   "outputs": [
    {
     "name": "stdout",
     "output_type": "stream",
     "text": [
      "education\n",
      "education\n",
      "1.0    1391\n",
      "2.0     990\n",
      "3.0     549\n",
      "4.0     373\n",
      "Name: count, dtype: int64\n",
      "\n",
      "sex\n",
      "sex\n",
      "F    1923\n",
      "M    1467\n",
      "Name: count, dtype: int64\n",
      "\n",
      "is_smoking\n",
      "is_smoking\n",
      "NO     1703\n",
      "YES    1687\n",
      "Name: count, dtype: int64\n",
      "\n",
      "BPMeds\n",
      "BPMeds\n",
      "0.0    3246\n",
      "1.0     100\n",
      "Name: count, dtype: int64\n",
      "\n",
      "prevalentStroke\n",
      "prevalentStroke\n",
      "0    3368\n",
      "1      22\n",
      "Name: count, dtype: int64\n",
      "\n",
      "prevalentHyp\n",
      "prevalentHyp\n",
      "0    2321\n",
      "1    1069\n",
      "Name: count, dtype: int64\n",
      "\n",
      "diabetes\n",
      "diabetes\n",
      "0    3303\n",
      "1      87\n",
      "Name: count, dtype: int64\n",
      "\n",
      "TenYearCHD\n",
      "TenYearCHD\n",
      "0    2879\n",
      "1     511\n",
      "Name: count, dtype: int64\n",
      "\n"
     ]
    }
   ],
   "source": [
    "#Columns that are categorical in nature\n",
    "\n",
    "for col in dataset.columns:\n",
    "  if dataset[col].nunique()<=10:\n",
    "    print(col)\n",
    "    print(dataset[col].value_counts())\n",
    "    print('')"
   ]
  },
  {
   "attachments": {},
   "cell_type": "markdown",
   "metadata": {},
   "source": [
    "## ***3. Data Wrangling***"
   ]
  },
  {
   "attachments": {},
   "cell_type": "markdown",
   "metadata": {},
   "source": [
    "\n",
    "The above dataframe explains the effect of removal of outliers. If the outliers in this particular case are removed, it would cause removal of many rows with possible risk of CHD.\n",
    " In this scenario, it is known that people with extreme values of Cholestrol, BP, Glucose, BMI etc. are prone to heart diseases. Hence, removal of higher numbers is not considered."
   ]
  },
  {
   "cell_type": "code",
   "execution_count": null,
   "metadata": {},
   "outputs": [],
   "source": [
    "dataset['is_smoking'] =dataset['is_smoking'].map({'YES':1,'NO':0})\n"
   ]
  },
  {
   "attachments": {},
   "cell_type": "markdown",
   "metadata": {},
   "source": [
    "## ***4. Data Vizualization, Storytelling & Experimenting with charts : Understand the relationships between variables***\n",
    "\n"
   ]
  },
  {
   "attachments": {},
   "cell_type": "markdown",
   "metadata": {},
   "source": [
    "### Chart 1: Ten Year CHD (Univariate)"
   ]
  },
  {
   "cell_type": "code",
   "execution_count": null,
   "metadata": {},
   "outputs": [
    {
     "name": "stdout",
     "output_type": "stream",
     "text": [
      "TenYearCHD\n",
      "0    2879\n",
      "1     511\n",
      "Name: count, dtype: int64\n",
      " \n"
     ]
    },
    {
     "data": {
      "text/plain": [
       "<Axes: ylabel='count'>"
      ]
     },
     "metadata": {},
     "output_type": "display_data"
    },
    {
     "data": {
      "image/png": "[encoded data removed]",
      "text/plain": [
       "<Figure size 1500x600 with 1 Axes>"
      ]
     },
     "metadata": {},
     "output_type": "display_data"
    }
   ],
   "source": [
    "# Chart - 1 visualization code\n",
    "\n",
    "# Dependent Column Value Counts\n",
    "print(dataset['TenYearCHD'].value_counts())\n",
    "print(\" \")\n",
    "# Dependent Variable Column Visualization\n",
    "\n",
    "dataset['TenYearCHD'].value_counts().plot(kind='pie',\n",
    "                              figsize=(15,6),\n",
    "                               autopct=\"%1.1f%%\",\n",
    "                               startangle=90,\n",
    "                               shadow=True,\n",
    "                               labels=['No Risk(%)','Risk(%)'],\n",
    "                               colors=['skyblue','red'],\n",
    "                               explode=[0,0]\n",
    "                              )"
   ]
  },
  {
   "attachments": {},
   "cell_type": "markdown",
   "metadata": {},
   "source": [
    " 1. Why did you pick the specific chart?"
   ]
  },
  {
   "attachments": {},
   "cell_type": "markdown",
   "metadata": {},
   "source": [
    "Pie chart is an easy way to present the percentage of every case possible in a situation. Like in the above graph pie chart shows very clear distinction between the two cases, Rish of CHD and No risk of CHD. That's why I used the pie chart."
   ]
  },
  {
   "attachments": {},
   "cell_type": "markdown",
   "metadata": {},
   "source": [
    "2. What is/are the insight(s) found from the chart?"
   ]
  },
  {
   "attachments": {},
   "cell_type": "markdown",
   "metadata": {},
   "source": [
    "From the above chart, we got to know that there are 2879 persons which have no risk of cardiovascular heart disease in the next 10 years. They constitute about 85% of the whole while the other 15%(511 persons) are in risk category. So they should take care of their health more."
   ]
  },
  {
   "attachments": {},
   "cell_type": "markdown",
   "metadata": {},
   "source": [
    "3. Will the gained insights help creating a positive business impact? \n",
    "Are there any insights that lead to negative growth? Justify with specific reason."
   ]
  },
  {
   "attachments": {},
   "cell_type": "markdown",
   "metadata": {},
   "source": [
    "Predicting CHD 10 years before can save a million of lives per year. A data scientist not being a doctor can still be able to save lives with the help of past data.This prediction can give a boom in the business as if we can predict the next ten years then the hospitals can provide a routine/regime by which the patients can tackle the heart problems or reduce it by a great factor.This can increase medicine sales and can increase fee of the doctor which helps hospitals to retain a patient for longer duration.\n",
    "\n"
   ]
  },
  {
   "attachments": {},
   "cell_type": "markdown",
   "metadata": {},
   "source": [
    "### Chart 2: Age VS CHD Risk (Bivariate)"
   ]
  },
  {
   "cell_type": "code",
   "execution_count": null,
   "metadata": {},
   "outputs": [
    {
     "name": "stdout",
     "output_type": "stream",
     "text": [
      "   age  Average Risk of CHD %\n",
      "0   70              50.000000\n",
      "1   68              50.000000\n",
      "2   66              46.666667\n",
      "3   65              37.209302\n",
      "4   67              33.333333\n",
      "5   63              30.107527\n",
      "6   60              25.263158\n",
      "7   62              25.000000\n",
      "8   58              24.210526\n",
      "9   61              24.137931\n",
      " \n"
     ]
    },
    {
     "data": {
      "image/png": "[encoded data removed]",
      "text/plain": [
       "<Figure size 1000x500 with 1 Axes>"
      ]
     },
     "metadata": {},
     "output_type": "display_data"
    }
   ],
   "source": [
    "# Chart - 2 visualization code\n",
    "\n",
    "print((dataset.groupby(['age'])['TenYearCHD'].mean()*100).sort_values(ascending = False).reset_index(name=\"Average Risk of CHD %\").head(10))\n",
    "print(\" \")\n",
    "\n",
    "#Showing ages when risk of CHD is maximum.\n",
    "\n",
    "plt.rcParams['figure.figsize'] = (10, 5)\n",
    "color = plt.cm.copper(np.linspace(0, 0.5, 20))\n",
    "((dataset.groupby(['age'])['TenYearCHD'].mean())*100).sort_values(ascending = False).head(20).plot.bar(color = ['violet','indigo','b','g','y','orange','r'])\n",
    "plt.title(\" Age-wise risk of CHD\", fontsize = 20)\n",
    "plt.xlabel('Age', fontsize = 15)\n",
    "plt.ylabel('risk', fontsize = 15)\n",
    "plt.show()"
   ]
  },
  {
   "attachments": {},
   "cell_type": "markdown",
   "metadata": {},
   "source": [
    " 1. Why did you pick the specific chart?"
   ]
  },
  {
   "attachments": {},
   "cell_type": "markdown",
   "metadata": {},
   "source": [
    "We have chosen bar chart becuase it distinctly depicts the comparison of one age with another. We get a very clear idea of the difference between two classes in a bar chart."
   ]
  },
  {
   "attachments": {},
   "cell_type": "markdown",
   "metadata": {},
   "source": [
    "2. What is/are the insight(s) found from the chart?"
   ]
  },
  {
   "attachments": {},
   "cell_type": "markdown",
   "metadata": {},
   "source": [
    "People with age above 66 years have high chances of CHD in next ten years. While for the other age groups it is comparatively low. "
   ]
  },
  {
   "attachments": {},
   "cell_type": "markdown",
   "metadata": {},
   "source": [
    "3. Will the gained insights help creating a positive business impact? \n",
    "Are there any insights that lead to negative growth? Justify with specific reason."
   ]
  },
  {
   "attachments": {},
   "cell_type": "markdown",
   "metadata": {},
   "source": [
    "The business can provide people of age greater than 66 more care and their continuous health check to keep them away from CHD. The ages which have moderate risk percent can be warned and advised for lifestyle modifications to very high risk in later age.\n",
    "And the people with very low risk can be appreciated in some ways to motivate them to keep up their good lifestyle. These all things take tiime and resources which a business can provide and this can increase their business positively.\n",
    "\n",
    "And if a business ignores the high risk aged people, this can result in very unfortunate situations like heart attack and can negatively affect business. "
   ]
  },
  {
   "attachments": {},
   "cell_type": "markdown",
   "metadata": {},
   "source": [
    "### Chart 3:Gender VS CHD Risk "
   ]
  },
  {
   "cell_type": "code",
   "execution_count": null,
   "metadata": {},
   "outputs": [],
   "source": [
    "#Making a dataset who have risk of CHD in next ten years\n",
    "\n",
    "dataset_chd_risk = dataset[dataset['TenYearCHD']==1]"
   ]
  },
  {
   "cell_type": "code",
   "execution_count": null,
   "metadata": {},
   "outputs": [
    {
     "name": "stdout",
     "output_type": "stream",
     "text": [
      "sex\n",
      "M    272\n",
      "F    239\n",
      "Name: count, dtype: int64\n",
      " \n"
     ]
    },
    {
     "data": {
      "text/plain": [
       "<Axes: ylabel='count'>"
      ]
     },
     "metadata": {},
     "output_type": "display_data"
    },
    {
     "data": {
      "image/png": "[encoded data removed]",
      "text/plain": [
       "<Figure size 1500x600 with 1 Axes>"
      ]
     },
     "metadata": {},
     "output_type": "display_data"
    }
   ],
   "source": [
    "# Chart - 3 visualization code\n",
    "\n",
    "# Risk of CHD for different genders\n",
    "\n",
    "print(dataset_chd_risk['sex'].value_counts())\n",
    "print(\" \")\n",
    "\n",
    "#Plotting\n",
    "\n",
    "dataset_chd_risk['sex'].value_counts().plot(kind='pie',\n",
    "                              figsize=(15,6),\n",
    "                               autopct=\"%1.1f%%\",\n",
    "                               startangle=90,\n",
    "                               shadow=True,\n",
    "                               labels=['Female','Male'],\n",
    "                               colors=['violet','thistle'],\n",
    "                               explode=[0,0]\n",
    "                              )"
   ]
  },
  {
   "attachments": {},
   "cell_type": "markdown",
   "metadata": {},
   "source": [
    " 1. Why did you pick the specific chart?"
   ]
  },
  {
   "attachments": {},
   "cell_type": "markdown",
   "metadata": {},
   "source": [
    "We picked this pie chart becuase it shows clear differentitation in the percentages of the cases it is given. "
   ]
  },
  {
   "attachments": {},
   "cell_type": "markdown",
   "metadata": {},
   "source": [
    "2. What is/are the insight(s) found from the chart?"
   ]
  },
  {
   "attachments": {},
   "cell_type": "markdown",
   "metadata": {},
   "source": [
    "We found here that Females have more chances of getting risk of CHD in next ten years in comparison to men.  "
   ]
  },
  {
   "attachments": {},
   "cell_type": "markdown",
   "metadata": {},
   "source": [
    "3. Will the gained insights help creating a positive business impact? \n",
    "Are there any insights that lead to negative growth? Justify with specific reason."
   ]
  },
  {
   "attachments": {},
   "cell_type": "markdown",
   "metadata": {},
   "source": [
    "The above insights can be used in business to create awareness among women for more regulary heart helath checkups. More care towards females could lead to positive business impact."
   ]
  },
  {
   "attachments": {},
   "cell_type": "markdown",
   "metadata": {},
   "source": [
    "### Chart 4: Education And CHD Risk"
   ]
  },
  {
   "cell_type": "code",
   "execution_count": null,
   "metadata": {},
   "outputs": [
    {
     "name": "stdout",
     "output_type": "stream",
     "text": [
      "   education  Average Risk of CHD %\n",
      "0        1.0              18.404026\n",
      "1        4.0              14.477212\n",
      "2        3.0              12.750455\n",
      "3        2.0              11.919192\n",
      " \n"
     ]
    },
    {
     "data": {
      "image/png": "[encoded data removed]",
      "text/plain": [
       "<Figure size 1000x500 with 1 Axes>"
      ]
     },
     "metadata": {},
     "output_type": "display_data"
    }
   ],
   "source": [
    "# Chart - 4 visualization code\n",
    "\n",
    "print((dataset.groupby(['education'])['TenYearCHD'].mean()*100).sort_values(ascending = False).reset_index(name=\"Average Risk of CHD %\").head(10))\n",
    "print(\" \")\n",
    "\n",
    "#Which education group has less risk of CHD.\n",
    "\n",
    "plt.rcParams['figure.figsize'] = (10, 5)\n",
    "color = plt.cm.copper(np.linspace(0, 0.5, 20))\n",
    "((dataset.groupby(['education'])['TenYearCHD'].mean())*100).sort_values(ascending = False).head(20).plot.bar(color = ['lemonchiffon','gold','khaki','goldenrod'])\n",
    "plt.title(\" Education-wise risk of CHD\", fontsize = 20)\n",
    "plt.xlabel('Education level', fontsize = 15)\n",
    "plt.ylabel('risk', fontsize = 15)\n",
    "plt.show()"
   ]
  },
  {
   "attachments": {},
   "cell_type": "markdown",
   "metadata": {},
   "source": [
    " 1. Why did you pick the specific chart?"
   ]
  },
  {
   "attachments": {},
   "cell_type": "markdown",
   "metadata": {},
   "source": [
    "Bar chart is very helpful in showing the difference in the classes of a categorical variable. That is why we used this specific bar chart here."
   ]
  },
  {
   "attachments": {},
   "cell_type": "markdown",
   "metadata": {},
   "source": [
    "2. What is/are the insight(s) found from the chart?"
   ]
  },
  {
   "attachments": {},
   "cell_type": "markdown",
   "metadata": {},
   "source": [
    "From the above chart we found that the people who have lowest education level have the hightest risk of CHD. This can be accounted by lack of awareness. The less eeducated people might not have adequate knowledge in undrstanding why heart diseases happens and what lifestyle they should adopt.\n",
    "The people who have highest education level also has high risk. This can be accounted by their negligience to their health and focusing more in their work. "
   ]
  },
  {
   "attachments": {},
   "cell_type": "markdown",
   "metadata": {},
   "source": [
    "3. Will the gained insights help creating a positive business impact? \n",
    "Are there any insights that lead to negative growth? Justify with specific reason."
   ]
  },
  {
   "attachments": {},
   "cell_type": "markdown",
   "metadata": {},
   "source": [
    "To get a positive growth in business we can create awareness in the less educated group so that they can take care of themselves in thier house and can judge by themselves when they should consult a doctor.\n",
    "And for the people with high education level, they can conduct regular sessions for getting their health checkup to reduce the risk. By maintaining these programs a business can grow in sales and promotion."
   ]
  },
  {
   "attachments": {},
   "cell_type": "markdown",
   "metadata": {},
   "source": [
    "### Chart 5: Other Diseases and CHD Risk"
   ]
  },
  {
   "cell_type": "code",
   "execution_count": null,
   "metadata": {},
   "outputs": [
    {
     "data": {
      "image/png": "[encoded data removed]",
      "text/plain": [
       "<Figure size 1000x500 with 4 Axes>"
      ]
     },
     "metadata": {},
     "output_type": "display_data"
    }
   ],
   "source": [
    "#Chart 5 - visualization code\n",
    "\n",
    "plt.subplot(2, 2, 2)\n",
    "(dataset.groupby(\"BPMeds\")[\"TenYearCHD\"].mean()*100).plot(kind='barh', color='grey')\n",
    "plt.title('BP')\n",
    "\n",
    "plt.subplot(2, 2, 3)\n",
    "(dataset.groupby(\"prevalentStroke\")[\"TenYearCHD\"].mean()*100).plot(kind='barh',color='grey')\n",
    "plt.title('Stroke')\n",
    "\n",
    "plt.subplot(2, 2, 4)\n",
    "(dataset.groupby(\"prevalentHyp\")[\"TenYearCHD\"].mean()*100).plot(kind='barh',color = 'grey')\n",
    "plt.title('Hypertension')\n",
    "\n",
    "plt.subplot(2, 2, 1)\n",
    "(dataset.groupby(\"diabetes\")[\"TenYearCHD\"].mean()*100).plot(kind='barh',color = 'grey')\n",
    "plt.title('Diabetes')\n",
    "\n",
    "plt.show()"
   ]
  },
  {
   "attachments": {},
   "cell_type": "markdown",
   "metadata": {},
   "source": [
    " 1. Why did you pick the specific chart?"
   ]
  },
  {
   "attachments": {},
   "cell_type": "markdown",
   "metadata": {},
   "source": [
    "We have used horizontal bar graphs because the labels are easier to display. In addition, they are more suitable for display on a small space in the case of a large data set.\n",
    "A horizontal bar chart is a graph in the form of rectangular bars.\n",
    "The length of these bars is proportional to the values they represent. The vertical axis represents the categories being compared, while the horizontal axis represents a value.\n"
   ]
  },
  {
   "attachments": {},
   "cell_type": "markdown",
   "metadata": {},
   "source": [
    "2. What is/are the insight(s) found from the chart?"
   ]
  },
  {
   "attachments": {},
   "cell_type": "markdown",
   "metadata": {},
   "source": [
    "We have found that the patients having either one of the above four conditions have more risk of CHD in next ten years. The difference in each of the cases is quite big. So any of the above problems cannot be ignored."
   ]
  },
  {
   "attachments": {},
   "cell_type": "markdown",
   "metadata": {},
   "source": [
    "3. Will the gained insights help creating a positive business impact? \n",
    "Are there any insights that lead to negative growth? Justify with specific reason."
   ]
  },
  {
   "attachments": {},
   "cell_type": "markdown",
   "metadata": {},
   "source": [
    "The above insights can be helpful as if a patient has these problems then those problems should be treated as soon as possible. The presence of more than one of these prblems can increase the risk by a great value. So to create a positive business impact in busness, the hospitals should focus on treating these problems first."
   ]
  },
  {
   "attachments": {},
   "cell_type": "markdown",
   "metadata": {},
   "source": [
    "### Chart 6: Smoking affects Heart"
   ]
  },
  {
   "cell_type": "code",
   "execution_count": null,
   "metadata": {},
   "outputs": [
    {
     "data": {
      "text/plain": [
       "<Axes: ylabel='TenYearCHD'>"
      ]
     },
     "metadata": {},
     "output_type": "display_data"
    },
    {
     "data": {
      "image/png": "[encoded data removed]",
      "text/plain": [
       "<Figure size 1500x600 with 1 Axes>"
      ]
     },
     "metadata": {},
     "output_type": "display_data"
    }
   ],
   "source": [
    "#Chart 6 - visualization code\n",
    "\n",
    "plt.figure(figsize=(6,5))\n",
    "(dataset.groupby(\"is_smoking\")[\"TenYearCHD\"].sum()).plot(kind='pie',\n",
    "                              figsize=(15,6),\n",
    "                               autopct=\"%1.1f%%\",\n",
    "                               startangle=90,\n",
    "                               shadow=True,\n",
    "                               labels=['Smokers','Non-Smokers']\n",
    "                              )"
   ]
  },
  {
   "attachments": {},
   "cell_type": "markdown",
   "metadata": {},
   "source": [
    " 1. Why did you pick the specific chart?"
   ]
  },
  {
   "attachments": {},
   "cell_type": "markdown",
   "metadata": {},
   "source": [
    "We have used pie chart to show the percentage differences between who have high risk of CHD due to smoking. Pie chart is used to show the percenatge difference between two or more categories."
   ]
  },
  {
   "attachments": {},
   "cell_type": "markdown",
   "metadata": {},
   "source": [
    "2. What is/are the insight(s) found from the chart?"
   ]
  },
  {
   "attachments": {},
   "cell_type": "markdown",
   "metadata": {},
   "source": [
    "We can see from the above graph that people who smoke has a slightly higher risk of heart diseases. The difference is not big it is around 2% but with age it can be 20% which could be lethal at a later age. "
   ]
  },
  {
   "attachments": {},
   "cell_type": "markdown",
   "metadata": {},
   "source": [
    "3. Will the gained insights help creating a positive business impact? \n",
    "Are there any insights that lead to negative growth? Justify with specific reason."
   ]
  },
  {
   "attachments": {},
   "cell_type": "markdown",
   "metadata": {},
   "source": [
    "Yes the insights can help in making a positive impact in business. So we found that smoking is not good for heart health, then the hospitals can provide smoking patients campaigns and advises to help leave smoking and imprive their health. Smoking in general is also bad for respiratory disease and this can also decline the health of a patient. So the hospitals can make money as well as improve the heath of their patients by engaging people in health programs showing downside of smoking. "
   ]
  },
  {
   "attachments": {},
   "cell_type": "markdown",
   "metadata": {},
   "source": [
    "### Chart 7: Number of Ciggerattes and CHD"
   ]
  },
  {
   "cell_type": "code",
   "execution_count": null,
   "metadata": {},
   "outputs": [
    {
     "data": {
      "text/plain": [
       "Text(0.5, 1.0, 'Average ciggerattes a day')"
      ]
     },
     "metadata": {},
     "output_type": "display_data"
    },
    {
     "data": {
      "image/png": "[encoded data removed]",
      "text/plain": [
       "<Figure size 600x500 with 1 Axes>"
      ]
     },
     "metadata": {},
     "output_type": "display_data"
    }
   ],
   "source": [
    "#Chart 7 - visualization code\n",
    "\n",
    "#This will tell on an average how many are consuming how much cigs per day\n",
    "\n",
    "plt.figure(figsize=(6,5))\n",
    "((dataset.groupby(['cigsPerDay'])[\"TenYearCHD\"].sum()).sort_index()[1:]).plot(kind='line',color = 'green',\n",
    "         linestyle = 'solid', marker = 'o',\n",
    "         markerfacecolor = 'red', markersize = 4)\n",
    "plt.ylabel(\"Number of people\")\n",
    "plt.title(\"Average ciggerattes a day\")"
   ]
  },
  {
   "attachments": {},
   "cell_type": "markdown",
   "metadata": {},
   "source": [
    " 1. Why did you pick the specific chart?"
   ]
  },
  {
   "attachments": {},
   "cell_type": "markdown",
   "metadata": {},
   "source": [
    "Here we used a line chart or line plot becuase it connects a series of data points using a line. This chart type helps to indentify trends and we can also predict values if the values follow a sequential pattern."
   ]
  },
  {
   "attachments": {},
   "cell_type": "markdown",
   "metadata": {},
   "source": [
    "2. What is/are the insight(s) found from the chart?"
   ]
  },
  {
   "attachments": {},
   "cell_type": "markdown",
   "metadata": {},
   "source": [
    "Here we found that most of the people who smokes, smokes around 20 ciggerattes in a day. This a very high number as it definitely will have adverse effects on the respiratory system. And also this effects the surrounding people as passive smoking is also harmful.\n",
    "Most of the people falls in the range of 10 and 40 smokes per day."
   ]
  },
  {
   "attachments": {},
   "cell_type": "markdown",
   "metadata": {},
   "source": [
    "3. Will the gained insights help creating a positive business impact? \n",
    "Are there any insights that lead to negative growth? Justify with specific reason."
   ]
  },
  {
   "attachments": {},
   "cell_type": "markdown",
   "metadata": {},
   "source": [
    "Business can make profit by advising/refering these people who smokes heavily to an addiction-free program or can refer them to a respiratory disease doctor. This way they can make money and help the society at the same time."
   ]
  },
  {
   "attachments": {},
   "cell_type": "markdown",
   "metadata": {},
   "source": [
    "### Chart 8: SysBP related to DiaBP?"
   ]
  },
  {
   "cell_type": "code",
   "execution_count": null,
   "metadata": {},
   "outputs": [
    {
     "data": {
      "text/plain": [
       "<Figure size 600x500 with 0 Axes>"
      ]
     },
     "metadata": {},
     "output_type": "display_data"
    },
    {
     "data": {
      "image/png": "[encoded data removed]",
      "text/plain": [
       "<Figure size 900x600 with 1 Axes>"
      ]
     },
     "metadata": {},
     "output_type": "display_data"
    }
   ],
   "source": [
    "#Chart 8 - visualization code\n",
    "\n",
    "#Whether there exist a linear relationship between sysBP and diaBP\n",
    "\n",
    "plt.figure(figsize=(6,5))\n",
    "dataset.plot(kind=\"scatter\", x=\"sysBP\",y=\"diaBP\",title=\"SysBP VS DiaBP\",figsize=(9,6))\n",
    "z = np.polyfit(dataset['sysBP'], dataset['diaBP'], 1)\n",
    "y_hat = np.poly1d(z)(dataset['sysBP'])\n",
    "plt.plot(dataset['sysBP'], y_hat, \"r--\", lw=1)\n",
    "plt.show()"
   ]
  },
  {
   "attachments": {},
   "cell_type": "markdown",
   "metadata": {},
   "source": [
    " 1. Why did you pick the specific chart?"
   ]
  },
  {
   "attachments": {},
   "cell_type": "markdown",
   "metadata": {},
   "source": [
    "We have used this plot because scatter plots represent relationships between two numerica vairbales in a better way. The dots in a scatter plot represents the values and slo the patterns when the data are taken as a whole. We can easily identify correlational relationships with this kind of plot."
   ]
  },
  {
   "attachments": {},
   "cell_type": "markdown",
   "metadata": {},
   "source": [
    "2. What is/are the insight(s) found from the chart?"
   ]
  },
  {
   "attachments": {},
   "cell_type": "markdown",
   "metadata": {},
   "source": [
    "We can see that there exists a linear relationship between sysBP and diaBP. It is not perfectly linear. the slight irregularities can be due to high/low blood pressure problems. The range of these both categories is fixed that's why the points are accumulated in a specific area. "
   ]
  },
  {
   "attachments": {},
   "cell_type": "markdown",
   "metadata": {},
   "source": [
    "3. Will the gained insights help creating a positive business impact? \n",
    "Are there any insights that lead to negative growth? Justify with specific reason."
   ]
  },
  {
   "attachments": {},
   "cell_type": "markdown",
   "metadata": {},
   "source": [
    "The linearity of sysBP and diaBP can be very useful. Proper monitoring of one can predict the other one. And if irregularities can also be added in the model, then we can predict high and low BP. This can be very helpful for business growth."
   ]
  },
  {
   "attachments": {},
   "cell_type": "markdown",
   "metadata": {},
   "source": [
    "### Chart 9: BMI vs CHD"
   ]
  },
  {
   "cell_type": "code",
   "execution_count": null,
   "metadata": {},
   "outputs": [],
   "source": [
    "#Which BMI range people have more risk of CHD"
   ]
  },
  {
   "attachments": {},
   "cell_type": "markdown",
   "metadata": {},
   "source": [
    "\n",
    "1. If your BMI is less than 18.5, it falls within the underweight range.\n",
    "2. If your BMI is 18.5 to <25, it falls within the healthy weight range.\n",
    "3. If your BMI is 25.0 to <30, it falls within the overweight range.\n",
    "4. If your BMI is 30.0 or higher, it falls within the obesity range.\n",
    "Obesity is frequently subdivided into categories:\n",
    "\n",
    "* Class 1: BMI of 30 to < 35, “low” obesity.\n",
    "* Class 2: BMI of 35 to < 40, “moderate” obesity.\n",
    "* Class 3: BMI of 40 or higher, “severe” obesity.\n",
    "\n"
   ]
  },
  {
   "cell_type": "code",
   "execution_count": null,
   "metadata": {},
   "outputs": [],
   "source": [
    "def bmi_cat(x):\n",
    "  y=''\n",
    "  if x < 18.5:\n",
    "    y = 'Underweight'\n",
    "  elif 18.5 <= x < 25:\n",
    "    y = 'Healthy'\n",
    "  elif 25 <= x < 30:\n",
    "    y = 'Overweight'\n",
    "  elif 30 <= x <35:\n",
    "    y = 'Low Obese'\n",
    "  elif 35 <= x < 40:\n",
    "    y = 'Moderate obese'\n",
    "  elif x >= 40:\n",
    "    y = 'Severe obese'\n",
    "  return y      \n",
    "\n",
    "dataset['BMI_cat'] = dataset['BMI'].apply(bmi_cat)"
   ]
  },
  {
   "cell_type": "code",
   "execution_count": null,
   "metadata": {},
   "outputs": [
    {
     "data": {
      "text/plain": [
       "<Axes: xlabel='BMI_cat'>"
      ]
     },
     "metadata": {},
     "output_type": "display_data"
    },
    {
     "data": {
      "image/png": "[encoded data removed]",
      "text/plain": [
       "<Figure size 600x500 with 1 Axes>"
      ]
     },
     "metadata": {},
     "output_type": "display_data"
    }
   ],
   "source": [
    "#Chart 9 - visualization code\n",
    "\n",
    "plt.figure(figsize=(6,5))\n",
    "(dataset.groupby(\"BMI_cat\")[\"TenYearCHD\"].mean().sort_values()[:6]).plot(kind='bar', color = 'green')"
   ]
  },
  {
   "attachments": {},
   "cell_type": "markdown",
   "metadata": {},
   "source": [
    " 1. Why did you pick the specific chart?"
   ]
  },
  {
   "attachments": {},
   "cell_type": "markdown",
   "metadata": {},
   "source": [
    "To show clear distinction between all the classes of BMI, I used this chart. The height of a bar can give a good idea about how value does a class hold."
   ]
  },
  {
   "attachments": {},
   "cell_type": "markdown",
   "metadata": {},
   "source": [
    "2. What is/are the insight(s) found from the chart?"
   ]
  },
  {
   "attachments": {},
   "cell_type": "markdown",
   "metadata": {},
   "source": [
    "We have found that healthy people have the lowest risk of CHD while patients who are obese have maximum risk of getting CHD in next 10 years.\n",
    "These results are quite obvious as BMI tells the ration of height and weight and signifies about the health of a person. If a person is healthy implies his heart will also be healthy which in turns lowers the heart related problems. And the obese people have quite the opposite thing. They have high risk because of fat concentration."
   ]
  },
  {
   "attachments": {},
   "cell_type": "markdown",
   "metadata": {},
   "source": [
    "3. Will the gained insights help creating a positive business impact? \n",
    "Are there any insights that lead to negative growth? Justify with specific reason."
   ]
  },
  {
   "attachments": {},
   "cell_type": "markdown",
   "metadata": {},
   "source": [
    "We can promote being healthy in the society to lower the risk. Hospitals can provide and advise people to continuously exercise and maintain their body. Daily online yog, exercise classes will be very helpful. This can increase the business as the people will be more engaged and can earn some sales from online classes as suggested. "
   ]
  },
  {
   "attachments": {},
   "cell_type": "markdown",
   "metadata": {},
   "source": [
    "### Chart 10: Heart Rate and CHD"
   ]
  },
  {
   "cell_type": "code",
   "execution_count": null,
   "metadata": {},
   "outputs": [
    {
     "data": {
      "text/plain": [
       "<Axes: xlabel='heartRate'>"
      ]
     },
     "metadata": {},
     "output_type": "display_data"
    },
    {
     "data": {
      "image/png": "[encoded data removed]",
      "text/plain": [
       "<Figure size 600x500 with 1 Axes>"
      ]
     },
     "metadata": {},
     "output_type": "display_data"
    }
   ],
   "source": [
    "#Chart 10 - visualization code\n",
    "\n",
    "#High heart rate can lead to CHD?\n",
    "\n",
    "plt.figure(figsize=(6,5))\n",
    "((dataset.groupby(['heartRate'])[\"TenYearCHD\"].mean()).sort_index()).plot(kind='line')\n"
   ]
  },
  {
   "attachments": {},
   "cell_type": "markdown",
   "metadata": {},
   "source": [
    " 1. Why did you pick the specific chart?"
   ]
  },
  {
   "attachments": {},
   "cell_type": "markdown",
   "metadata": {},
   "source": [
    "We have picked this chart because it clearly represents how relationships interact. Using a line chart is ideal for tracking one or more variables over a defined or continuing period of time.  "
   ]
  },
  {
   "attachments": {},
   "cell_type": "markdown",
   "metadata": {},
   "source": [
    "2. What is/are the insight(s) found from the chart?"
   ]
  },
  {
   "attachments": {},
   "cell_type": "markdown",
   "metadata": {},
   "source": [
    "Here we are observing that there are many patients who do not have normal heart rate have more risk of CHD down the lane.The people with heart rate greater than 85 have high risk and the people with 120 heart rate has 50% chanes of CHD, which is very high."
   ]
  },
  {
   "attachments": {},
   "cell_type": "markdown",
   "metadata": {},
   "source": [
    "3. Will the gained insights help creating a positive business impact? \n",
    "Are there any insights that lead to negative growth? Justify with specific reason."
   ]
  },
  {
   "attachments": {},
   "cell_type": "markdown",
   "metadata": {},
   "source": [
    "We got that regular checkup of heart rate can be beneficial in detecting CHD and therefor should not be ignored. This is an important factor and therefore heart rate checkups should be advised more by the doctors. This would be good for both the patients and hospitals for positive growth."
   ]
  },
  {
   "attachments": {},
   "cell_type": "markdown",
   "metadata": {},
   "source": [
    "### Chart 11: Cholestrol related to Heart rate?"
   ]
  },
  {
   "cell_type": "code",
   "execution_count": null,
   "metadata": {},
   "outputs": [
    {
     "data": {
      "text/plain": [
       "<Figure size 600x500 with 0 Axes>"
      ]
     },
     "metadata": {},
     "output_type": "display_data"
    },
    {
     "data": {
      "image/png": "[encoded data removed]",
      "text/plain": [
       "<Figure size 900x600 with 1 Axes>"
      ]
     },
     "metadata": {},
     "output_type": "display_data"
    }
   ],
   "source": [
    "#Chart 11 - visualization code\n",
    "\n",
    "#High chol leads to high heart rate?\n",
    "\n",
    "plt.figure(figsize=(6,5))\n",
    "dataset.plot(kind=\"scatter\", x=\"totChol\",y=\"heartRate\",title=\"Heart rate VS Cholestrol\",figsize=(9,6), color = 'gold')\n",
    "plt.show()"
   ]
  },
  {
   "attachments": {},
   "cell_type": "markdown",
   "metadata": {},
   "source": [
    " 1. Why did you pick the specific chart?"
   ]
  },
  {
   "attachments": {},
   "cell_type": "markdown",
   "metadata": {},
   "source": [
    "We have used scatter plot here to check whether one continuous variable HeartRate is under the control of other continuous variable Cholestrol or not. Are they dependent or not."
   ]
  },
  {
   "attachments": {},
   "cell_type": "markdown",
   "metadata": {},
   "source": [
    "2. What is/are the insight(s) found from the chart?"
   ]
  },
  {
   "attachments": {},
   "cell_type": "markdown",
   "metadata": {},
   "source": [
    "We can see that there is moderately lineary relationship between the above two features. But the outliers here makes clearly sure that high cholestrol can cause high heart rate."
   ]
  },
  {
   "attachments": {},
   "cell_type": "markdown",
   "metadata": {},
   "source": [
    "3. Will the gained insights help creating a positive business impact? \n",
    "Are there any insights that lead to negative growth? Justify with specific reason."
   ]
  },
  {
   "attachments": {},
   "cell_type": "markdown",
   "metadata": {},
   "source": [
    "This insight can be useful as the patients having high cholestrol should be tested for heart rate too. This can increase sales of heart rate and cholestrol tests and can profit the business. Also as early as we can detect hig risk of CHD the better the life of patient."
   ]
  },
  {
   "attachments": {},
   "cell_type": "markdown",
   "metadata": {},
   "source": [
    "### Chart 12: Correlation Plot"
   ]
  },
  {
   "cell_type": "code",
   "execution_count": null,
   "metadata": {},
   "outputs": [],
   "source": [
    "#Chart 12 - visualization code\n",
    "\n",
    "#df = dataset.pivot(dataset.columns)\n",
    "#corr = df.corr()\n",
    "#plt.figure(figsize=(11,5))\n",
    "#sns.heatmap(abs(corr), annot=True, cmap='coolwarm')"
   ]
  },
  {
   "attachments": {},
   "cell_type": "markdown",
   "metadata": {},
   "source": [
    "##### 1. Why did you pick the specific chart?"
   ]
  },
  {
   "attachments": {},
   "cell_type": "markdown",
   "metadata": {},
   "source": [
    "A correlation map is kind of a matrix which shows the dependency of each variable on every other variables. This table has correlation coefficients which shows the correlation between two variables.\n",
    "The value of correlation lies between -1 and 1. Where 1 shows the maximum correlaion possible and -1 the least. This map is used to summarize data and with the help of it we can select/deselect features according to need. \n"
   ]
  },
  {
   "attachments": {},
   "cell_type": "markdown",
   "metadata": {},
   "source": [
    "##### 2. What is/are the insight(s) found from the chart?"
   ]
  },
  {
   "attachments": {},
   "cell_type": "markdown",
   "metadata": {},
   "source": [
    "From the above correlation map we can observe that:-\n",
    "1. is_smoking and ciggPerDay are highly correlated. This is obvious too as id a person smokes then the number of ciggs will not be zero for a day. Hence both the values have some correlation among them.\n",
    "2. sysBP and diaBP are both correlated with Prevalent hypertension. This can be accounted by the fact that if one is a patient of hypertension then their BP will not behave normal. There will be fluctuations because of hypertension.\n",
    "\n",
    "3. DiaBP and sysBP are also correlated as according to medical science there eexists a linear relationship between sysBP and diaBP. Theor combined fluctuations results in hhigh BP or low BP. That is why they are correlated."
   ]
  },
  {
   "attachments": {},
   "cell_type": "markdown",
   "metadata": {},
   "source": [
    "### Chart 13: Pair Plot"
   ]
  },
  {
   "cell_type": "code",
   "execution_count": null,
   "metadata": {},
   "outputs": [],
   "source": [
    "#Chart 13 - visualization code\n",
    "#sns.pairplot(dataset, hue=\"TenYearCHD\")"
   ]
  },
  {
   "attachments": {},
   "cell_type": "markdown",
   "metadata": {},
   "source": [
    "##### 1. Why did you pick the specific chart?"
   ]
  },
  {
   "attachments": {},
   "cell_type": "markdown",
   "metadata": {},
   "source": [
    "A pair plot expresses the important features to explain the relationship between the two variables. It helps to form very simple classififcation models by making simple graphs and showing linear separation in data. Therefore, we used a pair plot to check out the patterns, relations and variations between the features of our dataset.\n",
    " It is somewhat same as correlation but it shows pictorially whereas correlation map shows the difference numerically."
   ]
  },
  {
   "attachments": {},
   "cell_type": "markdown",
   "metadata": {},
   "source": [
    "##### 2. What is/are the insight(s) found from the chart?"
   ]
  },
  {
   "attachments": {},
   "cell_type": "markdown",
   "metadata": {},
   "source": [
    "The above chart clearly shows that there is very less linear relationship between continuous variables and datapoints. The categorical variables mostly all show the same trend. The varibles glucose, prevalent Strokeand diabetes have very high positive skewness. Most of the continuous data is clustered."
   ]
  }
 ],
 "metadata": {
  "kernelspec": {
   "display_name": "Python 3",
   "language": "python",
   "name": "python3"
  },
  "language_info": {
   "codemirror_mode": {
    "name": "ipython",
    "version": 3
   },
   "file_extension": ".py",
   "mimetype": "text/x-python",
   "name": "python",
   "nbconvert_exporter": "python",
   "pygments_lexer": "ipython3",
   "version": "3.11.3"
  },
  "orig_nbformat": 4
 },
 "nbformat": 4,
 "nbformat_minor": 2
}
